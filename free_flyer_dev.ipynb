{
 "cells": [
  {
   "cell_type": "code",
   "execution_count": 9,
   "metadata": {},
   "outputs": [
    {
     "name": "stdout",
     "output_type": "stream",
     "text": [
      "The autoreload extension is already loaded. To reload it, use:\n",
      "  %reload_ext autoreload\n"
     ]
    }
   ],
   "source": [
    "%load_ext autoreload\n",
    "%autoreload 2\n",
    "\n",
    "import matplotlib.pyplot as plt\n",
    "%matplotlib inline\n",
    "\n",
    "import torch\n",
    "from torch.autograd import Variable\n",
    "\n",
    "import numpy as np\n",
    "import cvxpy as cp\n",
    "\n",
    "from free_flyer.free_flyer import FreeFlyer\n",
    "from free_flyer.utils import *\n",
    "import pickle, os"
   ]
  },
  {
   "cell_type": "code",
   "execution_count": 10,
   "metadata": {},
   "outputs": [],
   "source": [
    "#load train/test data\n",
    "prob = FreeFlyer() #use default config, pass different config file oth.\n",
    "config_fn = './free_flyer/config/default.p'\n",
    "\n",
    "config_file = open(config_fn,'rb')\n",
    "dataset_name, _, _ = pickle.load(config_file); config_file.close()\n",
    "\n",
    "relative_path = os.getcwd()\n",
    "dataset_fn = relative_path + '/free_flyer/data/' + 'new'\n",
    "\n",
    "train_file = open(dataset_fn+'/train.p','rb')\n",
    "# p_train, x_train, u_train, y_train, c_train, times_train = pickle.load(train_file)\n",
    "train_data = pickle.load(train_file)\n",
    "train_file.close()\n",
    "x_train = train_data[1]\n",
    "y_train = train_data[3]\n",
    "\n",
    "test_file = open(dataset_fn+'/test.p','rb')\n",
    "# p_test, x_test, u_test, y_test, c_test, times_test = pickle.load(test_file)\n",
    "test_data = pickle.load(test_file)\n",
    "p_test, x_test, u_test, y_test, c_test = test_data\n",
    "test_file.close()\n",
    "\n",
    "n_test = x_test.shape[0]"
   ]
  },
  {
   "cell_type": "markdown",
   "metadata": {},
   "source": [
    "# Regressor"
   ]
  },
  {
   "cell_type": "code",
   "execution_count": 11,
   "metadata": {},
   "outputs": [],
   "source": [
    "from solvers.regression import Regression\n",
    "\n",
    "system = 'free_flyer'\n",
    "prob_features = ['x0', 'xg']\n",
    "reg_obj = Regression(system, prob, prob_features)\n",
    "\n",
    "n_features = 8\n",
    "reg_obj.construct_strategies(n_features, train_data)"
   ]
  },
  {
   "cell_type": "code",
   "execution_count": 12,
   "metadata": {},
   "outputs": [
    {
     "data": {
      "text/plain": [
       "FFNet(\n",
       "  (activation): ReLU()\n",
       "  (layers): ModuleList(\n",
       "    (0): Linear(in_features=8, out_features=32, bias=True)\n",
       "    (1-2): 2 x Linear(in_features=32, out_features=32, bias=True)\n",
       "    (3): Linear(in_features=32, out_features=80, bias=True)\n",
       "  )\n",
       ")"
      ]
     },
     "execution_count": 12,
     "metadata": {},
     "output_type": "execute_result"
    }
   ],
   "source": [
    "reg_obj.setup_network()\n",
    "\n",
    "# fn_saved = 'models/regression_free_flyer_20200708_0809.pt'\n",
    "# reg_obj.load_network(fn_saved)\n",
    "\n",
    "reg_obj.model"
   ]
  },
  {
   "cell_type": "code",
   "execution_count": 13,
   "metadata": {},
   "outputs": [
    {
     "name": "stdout",
     "output_type": "stream",
     "text": [
      "loss:   0.13540981709957123 , acc: 0.3125\n",
      "Saved model at /home/vietanhle/github/Fork/CoCo/regression_free_flyer_20250117_2106.pt\n",
      "loss:   0.12103612720966339 , acc: 0.384375\n",
      "loss:   0.12210311740636826 , acc: 0.31875\n",
      "Saved model at /home/vietanhle/github/Fork/CoCo/regression_free_flyer_20250117_2106.pt\n",
      "loss:   0.12596240639686584 , acc: 0.34375\n",
      "Saved model at /home/vietanhle/github/Fork/CoCo/regression_free_flyer_20250117_2106.pt\n",
      "loss:   0.12236174941062927 , acc: 0.36875\n",
      "Saved model at /home/vietanhle/github/Fork/CoCo/regression_free_flyer_20250117_2106.pt\n",
      "Done training\n",
      "/home/vietanhle/github/Fork/CoCo/regression_free_flyer_20250117_2106.pt\n"
     ]
    }
   ],
   "source": [
    "reg_obj.training_params['TRAINING_ITERATIONS'] = 5000\n",
    "reg_obj.train(verbose=True)\n",
    "print(reg_obj.model_fn)"
   ]
  },
  {
   "cell_type": "code",
   "execution_count": 14,
   "metadata": {},
   "outputs": [],
   "source": [
    "# n_succ = 0\n",
    "# count = 0\n",
    "\n",
    "# costs_reg = []\n",
    "# total_time_reg = []\n",
    "# num_solves_reg = []\n",
    "\n",
    "# cost_ratios_reg = []\n",
    "\n",
    "# for ii in range(n_test):\n",
    "#     prob_params = {}\n",
    "#     for k in p_test.keys():\n",
    "#         prob_params[k] = p_test[k][ii]\n",
    "\n",
    "#     try:\n",
    "#         prob_success, cost, total_time, optvals = reg_obj.forward(prob_params)\n",
    "\n",
    "#         if prob_success:\n",
    "#             n_succ += 1\n",
    "#             costs_reg += [cost]\n",
    "#             total_time_reg += [total_time]\n",
    "#             num_solves_reg += [1]\n",
    "\n",
    "#             true_cost = c_test[ii]\n",
    "#             cost_ratios_reg += [cost / true_cost]\n",
    "#         count += 1\n",
    "#     except:\n",
    "#         continue\n",
    "\n",
    "# costs_reg = np.array(costs_reg)\n",
    "# cost_ratios_reg = np.array(cost_ratios_reg)\n",
    "# total_time_reg = np.array(total_time_reg)\n",
    "# num_solves_reg = np.array(num_solves_reg, dtype=int)\n",
    "\n",
    "# reg_percentage = 100 * float(n_succ) / float(count)\n",
    "# reg_percentage"
   ]
  },
  {
   "cell_type": "code",
   "execution_count": 15,
   "metadata": {},
   "outputs": [],
   "source": [
    "# reg_percentage"
   ]
  },
  {
   "cell_type": "markdown",
   "metadata": {},
   "source": [
    "# MLOPT classifier"
   ]
  },
  {
   "cell_type": "code",
   "execution_count": 16,
   "metadata": {},
   "outputs": [
    {
     "name": "stdout",
     "output_type": "stream",
     "text": [
      "895\n"
     ]
    }
   ],
   "source": [
    "from solvers.coco import CoCo\n",
    "\n",
    "system = 'free_flyer'\n",
    "prob_features = ['x0', 'xg']\n",
    "mlopt_obj = CoCo(system, prob, prob_features, n_evals=3)\n",
    "\n",
    "n_features = 8\n",
    "mlopt_obj.construct_strategies(n_features, train_data)\n",
    "print(mlopt_obj.n_strategies)"
   ]
  },
  {
   "cell_type": "code",
   "execution_count": 17,
   "metadata": {},
   "outputs": [
    {
     "data": {
      "text/plain": [
       "FFNet(\n",
       "  (activation): ReLU()\n",
       "  (layers): ModuleList(\n",
       "    (0): Linear(in_features=8, out_features=32, bias=True)\n",
       "    (1-2): 2 x Linear(in_features=32, out_features=32, bias=True)\n",
       "    (3): Linear(in_features=32, out_features=895, bias=True)\n",
       "  )\n",
       ")"
      ]
     },
     "execution_count": 17,
     "metadata": {},
     "output_type": "execute_result"
    }
   ],
   "source": [
    "mlopt_obj.setup_network()\n",
    "\n",
    "# fn_saved = 'mlopt_free_flyer_20200707_1425.pt'\n",
    "# # fn_saved = 'None'\n",
    "# mlopt_obj.load_network(fn_saved)\n",
    "\n",
    "mlopt_obj.model"
   ]
  },
  {
   "cell_type": "code",
   "execution_count": 18,
   "metadata": {},
   "outputs": [
    {
     "name": "stdout",
     "output_type": "stream",
     "text": [
      "loss:   3.5860509872436523,   acc:  0.4375\n",
      "loss:   2.90295672416687,   acc:  0.375\n",
      "loss:   2.300121307373047,   acc:  0.375\n",
      "loss:   1.5474275350570679,   acc:  0.5625\n",
      "loss:   1.523472547531128,   acc:  0.59375\n",
      "loss:   1.9383563995361328,   acc:  0.5\n",
      "loss:   1.7415552139282227,   acc:  0.4375\n",
      "loss:   1.3898632526397705,   acc:  0.59375\n",
      "loss:   0.9966533780097961,   acc:  0.6875\n",
      "loss:   1.6554532051086426,   acc:  0.4375\n",
      "loss:   1.716103196144104,   acc:  0.375\n",
      "loss:   1.7563996315002441,   acc:  0.34375\n",
      "loss:   1.5575664043426514,   acc:  0.5625\n",
      "loss:   1.3134613037109375,   acc:  0.46875\n",
      "loss:   1.506229281425476,   acc:  0.5625\n",
      "loss:   0.9740935564041138,   acc:  0.75\n",
      "loss:   1.0671212673187256,   acc:  0.53125\n",
      "loss:   1.5146386623382568,   acc:  0.59375\n",
      "loss:   1.0563243627548218,   acc:  0.625\n",
      "loss:   0.9907119274139404,   acc:  0.71875\n",
      "loss:   0.909522533416748,   acc:  0.6875\n",
      "loss:   1.108810544013977,   acc:  0.53125\n",
      "loss:   0.7811492681503296,   acc:  0.78125\n",
      "loss:   0.9666478633880615,   acc:  0.625\n",
      "loss:   1.0645188093185425,   acc:  0.53125\n",
      "loss:   0.8499643206596375,   acc:  0.78125\n",
      "loss:   1.08867347240448,   acc:  0.65625\n",
      "loss:   1.3995786905288696,   acc:  0.46875\n",
      "loss:   0.6381507515907288,   acc:  0.78125\n",
      "loss:   0.7969474792480469,   acc:  0.8125\n",
      "Saved model at /home/vietanhle/github/Fork/CoCo/CoCo_free_flyer_20250117_2113.pt\n",
      "loss:   0.9918197393417358,   acc:  0.6875\n",
      "loss:   0.9225652813911438,   acc:  0.71875\n",
      "loss:   0.7792867422103882,   acc:  0.75\n",
      "loss:   1.074390172958374,   acc:  0.59375\n",
      "loss:   1.0904637575149536,   acc:  0.625\n",
      "loss:   1.2432153224945068,   acc:  0.46875\n",
      "loss:   0.8792700171470642,   acc:  0.71875\n",
      "loss:   1.0417097806930542,   acc:  0.59375\n",
      "loss:   0.7555369138717651,   acc:  0.75\n",
      "loss:   1.124188780784607,   acc:  0.59375\n",
      "loss:   0.8275039196014404,   acc:  0.71875\n",
      "loss:   1.0935478210449219,   acc:  0.46875\n",
      "loss:   0.765519917011261,   acc:  0.6875\n",
      "loss:   0.7806817293167114,   acc:  0.6875\n",
      "loss:   0.9338274002075195,   acc:  0.65625\n",
      "loss:   0.8884212970733643,   acc:  0.59375\n",
      "loss:   0.8076134324073792,   acc:  0.71875\n",
      "loss:   0.856103777885437,   acc:  0.65625\n",
      "loss:   1.076015591621399,   acc:  0.625\n",
      "loss:   0.7737261652946472,   acc:  0.65625\n",
      "loss:   0.8994591236114502,   acc:  0.6875\n",
      "loss:   0.8704935312271118,   acc:  0.6875\n",
      "loss:   0.8221731185913086,   acc:  0.75\n",
      "loss:   0.5745216012001038,   acc:  0.71875\n",
      "loss:   0.8708611130714417,   acc:  0.75\n",
      "loss:   0.927634060382843,   acc:  0.65625\n",
      "loss:   0.7036546468734741,   acc:  0.71875\n",
      "loss:   0.9695107340812683,   acc:  0.625\n",
      "loss:   0.6203227639198303,   acc:  0.8125\n",
      "loss:   0.7590839862823486,   acc:  0.65625\n",
      "Saved model at /home/vietanhle/github/Fork/CoCo/CoCo_free_flyer_20250117_2113.pt\n",
      "loss:   0.8687829971313477,   acc:  0.6875\n",
      "loss:   0.7759672999382019,   acc:  0.71875\n",
      "loss:   0.6798310875892639,   acc:  0.8125\n",
      "loss:   0.7067515254020691,   acc:  0.71875\n",
      "loss:   0.697628378868103,   acc:  0.71875\n",
      "loss:   0.7348794937133789,   acc:  0.75\n",
      "loss:   0.4824642241001129,   acc:  0.84375\n",
      "loss:   0.7175705432891846,   acc:  0.71875\n",
      "loss:   0.788018524646759,   acc:  0.65625\n",
      "loss:   0.7714542746543884,   acc:  0.71875\n",
      "loss:   0.8458106517791748,   acc:  0.65625\n",
      "loss:   0.5592383742332458,   acc:  0.84375\n",
      "loss:   0.6591090559959412,   acc:  0.78125\n",
      "loss:   0.5678985714912415,   acc:  0.90625\n",
      "loss:   0.7926871180534363,   acc:  0.65625\n",
      "loss:   0.8524350523948669,   acc:  0.65625\n",
      "loss:   0.8565086722373962,   acc:  0.71875\n",
      "loss:   0.4401225745677948,   acc:  0.875\n",
      "loss:   0.7156957983970642,   acc:  0.6875\n",
      "loss:   0.5640597939491272,   acc:  0.75\n",
      "loss:   0.7237424850463867,   acc:  0.71875\n",
      "loss:   0.47456616163253784,   acc:  0.84375\n",
      "loss:   0.7321165800094604,   acc:  0.71875\n",
      "loss:   0.4466228485107422,   acc:  0.90625\n",
      "loss:   0.6956919431686401,   acc:  0.65625\n",
      "loss:   0.8652839064598083,   acc:  0.75\n",
      "loss:   0.8133611083030701,   acc:  0.6875\n",
      "loss:   0.7934341430664062,   acc:  0.65625\n",
      "loss:   0.41685324907302856,   acc:  0.84375\n",
      "loss:   0.6043713092803955,   acc:  0.8125\n",
      "Saved model at /home/vietanhle/github/Fork/CoCo/CoCo_free_flyer_20250117_2113.pt\n",
      "loss:   0.7828682661056519,   acc:  0.65625\n",
      "loss:   0.566541314125061,   acc:  0.8125\n",
      "loss:   0.6528611183166504,   acc:  0.6875\n",
      "loss:   0.7069151401519775,   acc:  0.71875\n",
      "loss:   0.4926048219203949,   acc:  0.8125\n",
      "loss:   0.6884431838989258,   acc:  0.75\n",
      "loss:   0.5957732200622559,   acc:  0.75\n",
      "loss:   0.9075309634208679,   acc:  0.6875\n",
      "loss:   0.8698993921279907,   acc:  0.6875\n",
      "loss:   0.614432692527771,   acc:  0.8125\n",
      "loss:   0.39470183849334717,   acc:  0.9375\n",
      "loss:   0.6956105828285217,   acc:  0.65625\n",
      "loss:   0.7269046306610107,   acc:  0.6875\n",
      "loss:   0.49298471212387085,   acc:  0.90625\n",
      "loss:   0.4367806911468506,   acc:  0.90625\n",
      "loss:   0.625978946685791,   acc:  0.78125\n",
      "loss:   0.44828805327415466,   acc:  0.84375\n",
      "loss:   0.6324961185455322,   acc:  0.71875\n",
      "loss:   0.5974105000495911,   acc:  0.8125\n",
      "loss:   0.6682755351066589,   acc:  0.6875\n",
      "loss:   0.7098512053489685,   acc:  0.75\n",
      "loss:   0.8494096398353577,   acc:  0.59375\n",
      "loss:   0.6625270247459412,   acc:  0.6875\n",
      "loss:   0.8837414383888245,   acc:  0.71875\n",
      "loss:   0.6196144223213196,   acc:  0.78125\n",
      "loss:   0.5952314138412476,   acc:  0.8125\n",
      "loss:   0.4444813132286072,   acc:  0.84375\n",
      "loss:   0.6834748387336731,   acc:  0.8125\n",
      "loss:   0.48275747895240784,   acc:  0.8125\n",
      "loss:   0.4685908555984497,   acc:  0.875\n",
      "Saved model at /home/vietanhle/github/Fork/CoCo/CoCo_free_flyer_20250117_2113.pt\n",
      "loss:   0.5850167274475098,   acc:  0.75\n",
      "loss:   0.4609282314777374,   acc:  0.8125\n",
      "loss:   0.5675297975540161,   acc:  0.78125\n",
      "loss:   0.5057838559150696,   acc:  0.8125\n",
      "loss:   0.40591639280319214,   acc:  0.90625\n",
      "loss:   0.47602203488349915,   acc:  0.875\n",
      "loss:   0.6658980250358582,   acc:  0.71875\n",
      "loss:   0.6506860852241516,   acc:  0.71875\n",
      "loss:   0.33866235613822937,   acc:  0.875\n",
      "loss:   0.4240761697292328,   acc:  0.90625\n",
      "loss:   0.5253207087516785,   acc:  0.8125\n",
      "loss:   0.4703144431114197,   acc:  0.875\n",
      "loss:   0.5914230942726135,   acc:  0.78125\n",
      "loss:   0.6580470204353333,   acc:  0.6875\n",
      "loss:   0.5185156464576721,   acc:  0.8125\n",
      "loss:   0.6202074885368347,   acc:  0.78125\n",
      "loss:   0.6663703918457031,   acc:  0.71875\n",
      "loss:   0.4442523717880249,   acc:  0.84375\n",
      "loss:   0.505247950553894,   acc:  0.84375\n",
      "loss:   0.41781798005104065,   acc:  0.90625\n",
      "loss:   0.30576378107070923,   acc:  0.875\n",
      "loss:   0.4228239357471466,   acc:  0.90625\n",
      "loss:   0.6107791662216187,   acc:  0.78125\n",
      "loss:   0.4949653744697571,   acc:  0.875\n",
      "loss:   0.6207712292671204,   acc:  0.75\n",
      "loss:   0.663506805896759,   acc:  0.75\n",
      "loss:   0.5446678996086121,   acc:  0.78125\n",
      "loss:   0.5969657301902771,   acc:  0.78125\n",
      "loss:   0.40776023268699646,   acc:  0.8125\n",
      "loss:   0.4881129264831543,   acc:  0.875\n",
      "Saved model at /home/vietanhle/github/Fork/CoCo/CoCo_free_flyer_20250117_2113.pt\n",
      "loss:   0.627571702003479,   acc:  0.65625\n",
      "loss:   0.3725559115409851,   acc:  0.90625\n",
      "loss:   0.40756741166114807,   acc:  0.875\n",
      "loss:   0.36610350012779236,   acc:  0.84375\n",
      "loss:   0.4388040602207184,   acc:  0.84375\n",
      "loss:   0.29989367723464966,   acc:  0.9375\n",
      "loss:   0.5057111978530884,   acc:  0.78125\n",
      "loss:   0.7206417322158813,   acc:  0.6875\n"
     ]
    },
    {
     "ename": "KeyboardInterrupt",
     "evalue": "",
     "output_type": "error",
     "traceback": [
      "\u001b[0;31m---------------------------------------------------------------------------\u001b[0m",
      "\u001b[0;31mKeyboardInterrupt\u001b[0m                         Traceback (most recent call last)",
      "Cell \u001b[0;32mIn[18], line 2\u001b[0m\n\u001b[1;32m      1\u001b[0m mlopt_obj\u001b[38;5;241m.\u001b[39mtraining_params[\u001b[38;5;124m'\u001b[39m\u001b[38;5;124mTRAINING_ITERATIONS\u001b[39m\u001b[38;5;124m'\u001b[39m] \u001b[38;5;241m=\u001b[39m \u001b[38;5;241m5000\u001b[39m\n\u001b[0;32m----> 2\u001b[0m \u001b[43mmlopt_obj\u001b[49m\u001b[38;5;241;43m.\u001b[39;49m\u001b[43mtrain\u001b[49m\u001b[43m(\u001b[49m\u001b[43mverbose\u001b[49m\u001b[38;5;241;43m=\u001b[39;49m\u001b[38;5;28;43;01mTrue\u001b[39;49;00m\u001b[43m)\u001b[49m\n\u001b[1;32m      3\u001b[0m \u001b[38;5;28mprint\u001b[39m(mlopt_obj\u001b[38;5;241m.\u001b[39mmodel_fn)\n",
      "File \u001b[0;32m~/github/Fork/CoCo/solvers/coco.py:151\u001b[0m, in \u001b[0;36mCoCo.train\u001b[0;34m(self, verbose)\u001b[0m\n\u001b[1;32m    148\u001b[0m opt\u001b[38;5;241m.\u001b[39mzero_grad()\n\u001b[1;32m    150\u001b[0m inputs \u001b[38;5;241m=\u001b[39m Variable(torch\u001b[38;5;241m.\u001b[39mfrom_numpy(X[idx,:]))\u001b[38;5;241m.\u001b[39mfloat()\u001b[38;5;241m.\u001b[39mto(device\u001b[38;5;241m=\u001b[39m\u001b[38;5;28mself\u001b[39m\u001b[38;5;241m.\u001b[39mdevice)\n\u001b[0;32m--> 151\u001b[0m labels \u001b[38;5;241m=\u001b[39m \u001b[43mVariable\u001b[49m\u001b[43m(\u001b[49m\u001b[43mtorch\u001b[49m\u001b[38;5;241;43m.\u001b[39;49m\u001b[43mfrom_numpy\u001b[49m\u001b[43m(\u001b[49m\u001b[43mY\u001b[49m\u001b[43m[\u001b[49m\u001b[43midx\u001b[49m\u001b[43m]\u001b[49m\u001b[43m)\u001b[49m\u001b[43m)\u001b[49m\u001b[38;5;241;43m.\u001b[39;49m\u001b[43mlong\u001b[49m\u001b[43m(\u001b[49m\u001b[43m)\u001b[49m\u001b[38;5;241;43m.\u001b[39;49m\u001b[43mto\u001b[49m\u001b[43m(\u001b[49m\u001b[43mdevice\u001b[49m\u001b[38;5;241;43m=\u001b[39;49m\u001b[38;5;28;43mself\u001b[39;49m\u001b[38;5;241;43m.\u001b[39;49m\u001b[43mdevice\u001b[49m\u001b[43m)\u001b[49m\n\u001b[1;32m    153\u001b[0m \u001b[38;5;66;03m# forward + backward + optimize\u001b[39;00m\n\u001b[1;32m    154\u001b[0m outputs \u001b[38;5;241m=\u001b[39m model(inputs)\n",
      "\u001b[0;31mKeyboardInterrupt\u001b[0m: "
     ]
    }
   ],
   "source": [
    "mlopt_obj.training_params['TRAINING_ITERATIONS'] = 5000\n",
    "mlopt_obj.train(verbose=True)\n",
    "print(mlopt_obj.model_fn)"
   ]
  },
  {
   "cell_type": "code",
   "execution_count": null,
   "metadata": {},
   "outputs": [],
   "source": [
    "# n_succ = 0\n",
    "# count = 0\n",
    "\n",
    "# costs_mlopt = []\n",
    "# total_time_mlopt = []\n",
    "# num_solves_mlopt = []\n",
    "\n",
    "# cost_ratios_mlopt = []\n",
    "\n",
    "# for ii in range(n_test):\n",
    "#     if ii % 1000 == 0:\n",
    "#         print('{} / {}'.format(ii,n_test))\n",
    "#     prob_params = {}\n",
    "#     for k in p_test.keys():\n",
    "#         prob_params[k] = p_test[k][ii]\n",
    "\n",
    "#     try:\n",
    "#         prob_success, cost, total_time, n_evals, optvals = mlopt_obj.forward(prob_params)\n",
    "\n",
    "#         if prob_success:\n",
    "#             n_succ += 1\n",
    "#             costs_mlopt += [cost]\n",
    "#             total_time_mlopt += [total_time]\n",
    "#             num_solves_mlopt += [n_evals]\n",
    "\n",
    "#             true_cost = c_test[ii]\n",
    "#             cost_ratios_mlopt += [cost / true_cost]\n",
    "#         count += 1\n",
    "#     except:\n",
    "#         continue\n",
    "\n",
    "# costs_mlopt = np.array(costs_mlopt)\n",
    "# cost_ratios_mlopt = np.array(cost_ratios_mlopt)\n",
    "# total_time_mlopt = np.array(total_time_mlopt)\n",
    "# num_solves_mlopt = np.array(num_solves_mlopt, dtype=int)\n",
    "\n",
    "# mlopt_percentage = 100 * float(n_succ) / float(count)\n",
    "# mlopt_percentage"
   ]
  },
  {
   "cell_type": "code",
   "execution_count": null,
   "metadata": {},
   "outputs": [],
   "source": [
    "# mlopt_percentage"
   ]
  },
  {
   "cell_type": "markdown",
   "metadata": {},
   "source": [
    "# image encodings"
   ]
  },
  {
   "cell_type": "code",
   "execution_count": 7,
   "metadata": {},
   "outputs": [],
   "source": [
    "from solvers.coco_ff import CoCo_FF"
   ]
  },
  {
   "cell_type": "code",
   "execution_count": null,
   "metadata": {},
   "outputs": [],
   "source": [
    "system = 'free_flyer'\n",
    "prob_features = ['x0', 'obstacles_map']\n",
    "\n",
    "max_evals = 3\n",
    "coco_obj = CoCo_FF(system, prob, prob_features)\n",
    "\n",
    "n_features = 4\n",
    "coco_obj.construct_strategies(n_features, train_data)\n",
    "print(coco_obj.n_strategies)"
   ]
  },
  {
   "cell_type": "code",
   "execution_count": null,
   "metadata": {},
   "outputs": [],
   "source": [
    "coco_obj.setup_network()\n",
    "\n",
    "fn_saved = 'models/mloptff_free_flyer_20200706_0823.pt'  # old dataset\n",
    "fn_saved = 'models/mloptff_free_flyer_20200716_0708.pt'   # New spaced out dataset\n",
    "fn_saved = 'models/CoCoFF_free_flyer_20210125_0808.pt'\n",
    "# fn_saved = 'mloptff_free_flyer_20200726_1455.pt'\n",
    "coco_obj.load_network(fn_saved)\n",
    "\n",
    "coco_obj.model"
   ]
  },
  {
   "cell_type": "code",
   "execution_count": null,
   "metadata": {
    "collapsed": true,
    "jupyter": {
     "outputs_hidden": true
    }
   },
   "outputs": [],
   "source": [
    "coco_obj.training_params['TRAINING_ITERATIONS'] = 750\n",
    "coco_obj.train(train_data=train_data, verbose=True)"
   ]
  },
  {
   "cell_type": "code",
   "execution_count": null,
   "metadata": {},
   "outputs": [],
   "source": [
    "prob_params = {}\n",
    "idx = np.random.randint(test_data[1].shape[0])\n",
    "for k in p_test.keys():\n",
    "    prob_params[k] = p_test[k][idx]\n",
    "\n",
    "prob_success, cost, total_time, n_evals, optvals = coco_obj.forward(prob_params, solver=cp.MOSEK, max_evals=10)\n",
    "\n",
    "if prob_success:\n",
    "    print(n_evals)\n",
    "else:\n",
    "    print('Failed')"
   ]
  },
  {
   "cell_type": "code",
   "execution_count": null,
   "metadata": {},
   "outputs": [],
   "source": [
    "n_succ = 0\n",
    "count = 0\n",
    "gurobi_mlopt_fail = 0\n",
    "\n",
    "costs_coco = []\n",
    "total_time_coco = []\n",
    "num_solves_coco = []\n",
    "\n",
    "cost_ratios_coco = []\n",
    "costs_ip = []\n",
    "total_time_ip = []\n",
    "num_solves_ip = []\n",
    "\n",
    "for ii in range(n_test):\n",
    "    if ii % 1000 == 0:\n",
    "        print('{} / {}'.format(ii,n_test))\n",
    "    prob_params = {}\n",
    "    for k in p_test.keys():\n",
    "        prob_params[k] = p_test[k][ii]\n",
    "\n",
    "    try:\n",
    "        prob_success, cost, total_time, n_evals, optvals = coco_obj.forward(prob_params, max_evals=max_evals, solver=cp.MOSEK)\n",
    "\n",
    "        if prob_success:\n",
    "            n_succ += 1\n",
    "            costs_coco += [cost]\n",
    "            total_time_coco += [total_time]\n",
    "            num_solves_coco += [n_evals]\n",
    "\n",
    "            true_cost = c_test[ii]\n",
    "            costs_ip += [true_cost]\n",
    "            total_time_ip += [times_test[ii]]\n",
    "\n",
    "            cost_ratios_coco += [cost / true_cost]\n",
    "        count += 1\n",
    "    except (KeyboardInterrupt, SystemExit):\n",
    "        raise\n",
    "    except:\n",
    "        print('Solver failed at {}'.format(ii))\n",
    "        gurobi_mlopt_fail += 1\n",
    "        continue\n",
    "\n",
    "costs_coco = np.array(costs_coco)\n",
    "cost_ratios_coco = np.array(cost_ratios_coco)\n",
    "total_time_coco = np.array(total_time_coco)\n",
    "num_solves_coco = np.array(num_solves_coco, dtype=int)\n",
    "\n",
    "costs_ip = np.array(costs_ip)\n",
    "total_time_ip = np.array(total_time_ip)\n",
    "num_solves_ip = np.array(num_solves_ip, dtype=int)\n",
    "\n",
    "coco_percentage = 100 * float(n_succ) / float(count)"
   ]
  },
  {
   "cell_type": "code",
   "execution_count": null,
   "metadata": {},
   "outputs": [],
   "source": [
    "coco_percentage"
   ]
  },
  {
   "cell_type": "markdown",
   "metadata": {},
   "source": [
    "# Martius & Zhu (2019)"
   ]
  },
  {
   "cell_type": "code",
   "execution_count": 19,
   "metadata": {},
   "outputs": [],
   "source": [
    "from solvers.knn import KNN"
   ]
  },
  {
   "cell_type": "code",
   "execution_count": 22,
   "metadata": {},
   "outputs": [],
   "source": [
    "system = 'free_flyer'\n",
    "prob_features = ['x0', 'xg']\n",
    "\n",
    "knn_obj = KNN(system, prob, prob_features, knn=3)\n",
    "\n",
    "n_features = 8\n",
    "knn_obj.train(n_features, train_data)"
   ]
  },
  {
   "cell_type": "code",
   "execution_count": null,
   "metadata": {},
   "outputs": [],
   "source": [
    "# n_succ = 0\n",
    "# count = 0\n",
    "\n",
    "# costs_knn = []\n",
    "# total_time_knn = []\n",
    "# num_solves_knn = []\n",
    "\n",
    "# cost_ratios_knn = []\n",
    "\n",
    "# for ii in range(n_test):\n",
    "#     if ii % 1000 == 0:\n",
    "#         print('{} / {}'.format(ii,n_test))\n",
    "#     prob_params = {}\n",
    "#     for k in p_test.keys():\n",
    "#         prob_params[k] = p_test[k][ii]\n",
    "\n",
    "#     try:\n",
    "#         prob_success, cost, total_time, n_evals, optvals = knn_obj.forward(prob_params, solver=cp.MOSEK)\n",
    "\n",
    "#         if prob_success:\n",
    "#             n_succ += 1\n",
    "#             costs_knn += [cost]\n",
    "#             total_time_knn += [total_time]\n",
    "#             num_solves_knn += [n_evals]\n",
    "\n",
    "#             true_cost = c_test[ii]\n",
    "#             cost_ratios_knn += [cost / true_cost]\n",
    "#         count += 1\n",
    "#     except (KeyboardInterrupt, SystemExit):\n",
    "#         raise\n",
    "#     except:\n",
    "#         print('Solver failed at {}'.format(ii))\n",
    "#         continue\n",
    "\n",
    "# costs_knn = np.array(costs_knn)\n",
    "# cost_ratios_knn = np.array(cost_ratios_knn)\n",
    "# total_time_knn = np.array(total_time_knn)\n",
    "# num_solves_knn = np.array(num_solves_knn, dtype=int)\n",
    "\n",
    "# knn_percentage = 100 * float(n_succ) / float(count)"
   ]
  },
  {
   "cell_type": "code",
   "execution_count": null,
   "metadata": {},
   "outputs": [],
   "source": [
    "# knn_percentage"
   ]
  },
  {
   "cell_type": "markdown",
   "metadata": {},
   "source": [
    "# Mosek\n",
    "\n",
    "### Make sure set value for max number of feasible solutions for solver"
   ]
  },
  {
   "cell_type": "code",
   "execution_count": null,
   "metadata": {},
   "outputs": [],
   "source": [
    "print('Cutoff time for Mosek: {}'.format(np.max(total_time_coco)))"
   ]
  },
  {
   "cell_type": "code",
   "execution_count": null,
   "metadata": {},
   "outputs": [],
   "source": [
    "solver = cp.MOSEK\n",
    "\n",
    "n_succ = 0\n",
    "count = 0\n",
    "\n",
    "costs_sol = []\n",
    "cost_ratios_sol = []\n",
    "total_time_sol = []\n",
    "\n",
    "for ii in range(n_test):\n",
    "    count += 1\n",
    "    prob_params = {}\n",
    "    for k in p_test.keys():\n",
    "        prob_params[k] = p_test[k][ii]\n",
    "\n",
    "    try:\n",
    "        prob_success, cost, total_time, optvals = prob.solve_micp(prob_params, solver=solver)\n",
    "\n",
    "        if prob_success:\n",
    "            n_succ += 1\n",
    "            costs_sol += [cost]\n",
    "\n",
    "            true_cost = c_test[ii]\n",
    "            cost_ratios_sol += [cost / true_cost]\n",
    "            total_time_sol += [total_time]\n",
    "    except (KeyboardInterrupt, SystemExit):\n",
    "        raise\n",
    "    except:\n",
    "#         print('Solver failed at {}'.format(ii))\n",
    "        continue\n",
    "\n",
    "costs_sol = np.array(costs_sol)\n",
    "cost_ratios_sol = np.array(cost_ratios_sol)\n",
    "total_time_sol = np.array(total_time_sol)\n",
    "\n",
    "sol_percentage = 100 * float(n_succ) / float(count)\n",
    "sol_percentage"
   ]
  },
  {
   "cell_type": "code",
   "execution_count": null,
   "metadata": {},
   "outputs": [],
   "source": [
    "sol_percentage"
   ]
  },
  {
   "cell_type": "markdown",
   "metadata": {},
   "source": [
    "# Results"
   ]
  },
  {
   "cell_type": "code",
   "execution_count": 44,
   "metadata": {},
   "outputs": [],
   "source": [
    "import math\n",
    "import seaborn as sns\n",
    "sns.set(font_scale=1.5, font=\"serif\", style=\"whitegrid\")\n",
    "import pandas as pd\n",
    "import h5py\n",
    "import matplotlib\n",
    "\n",
    "flierprops = {'alpha':0.2}\n",
    "\n",
    "params = {'backend': 'ps',\n",
    "              'text.latex.preamble': ['\\\\usepackage{gensymb}'],\n",
    "#               'axes.labelsize': 12, # fontsize for x and y labels (was 12 and before 10)\n",
    "#               'axes.titlesize': 12,\n",
    "              'font.size': 90, # was 12 and before 10\n",
    "              'legend.fontsize': 12, # was 12 and before 10\n",
    "#               'xtick.labelsize': 12,\n",
    "#               'ytick.labelsize': 12,\n",
    "              'text.usetex': True,\n",
    "              'font.family': 'serif',\n",
    "              'font.sans-serif':['Helvetica Neue']\n",
    "    }\n",
    "\n",
    "params = {\n",
    "#     'backend': 'ps',\n",
    "#               'text.latex.preamble': ['\\\\usepackage{gensymb}'],\n",
    "#               'axes.labelsize': 12, # fontsize for x and y labels (was 12 and before 10)\n",
    "#               'axes.titlesize': 12,\n",
    "#               'font.size': 12, # was 12 and before 10\n",
    "              'legend.fontsize': 26, # was 12 and before 10\n",
    "#               'xtick.labelsize': 12,\n",
    "#               'ytick.labelsize': 12,\n",
    "#               'text.usetex': True,\n",
    "#               'font.family': 'serif',\n",
    "#               'font.sans-serif':['Helvetica Neue']\n",
    "    }\n",
    "\n",
    "sns.set(font_scale=2.)\n",
    "matplotlib.rcParams.update(params)"
   ]
  },
  {
   "cell_type": "code",
   "execution_count": 50,
   "metadata": {},
   "outputs": [],
   "source": [
    "# hf = h5py.File('free_flyer_dev.h5', 'w')\n",
    "\n",
    "# hf.create_dataset('percentage', data=np.expand_dims(np.asarray([sol_percentage, coco_percentage, mlopt_percentage, reg_percentage, knn_percentage]), axis=1))\n",
    "\n",
    "# num_solves_grp = hf.create_group('num_solves')\n",
    "# num_solves_grp.create_dataset('num_solves_coco', data=np.expand_dims(num_solves_coco, axis=1))\n",
    "# num_solves_grp.create_dataset('num_solves_mlopt', data=np.expand_dims(num_solves_mlopt, axis=1))\n",
    "# num_solves_grp.create_dataset('num_solves_reg', data=np.expand_dims(num_solves_reg, axis=1))\n",
    "# num_solves_grp.create_dataset('num_solves_knn', data=np.expand_dims(num_solves_knn, axis=1))\n",
    "\n",
    "# total_time_grp = hf.create_group('total_time')\n",
    "# total_time_grp.create_dataset('total_time_sol', data=np.expand_dims(total_time_sol, axis=1))\n",
    "# total_time_grp.create_dataset('total_time_coco', data=np.expand_dims(total_time_coco, axis=1))\n",
    "# total_time_grp.create_dataset('total_time_mlopt', data=np.expand_dims(total_time_mlopt, axis=1))\n",
    "# total_time_grp.create_dataset('total_time_reg', data=np.expand_dims(total_time_reg, axis=1))\n",
    "# total_time_grp.create_dataset('total_time_knn', data=np.expand_dims(total_time_knn, axis=1))\n",
    "\n",
    "# cost_ratios_grp = hf.create_group('cost_ratios')\n",
    "# cost_ratios_grp.create_dataset('cost_ratios_sol', data=np.expand_dims(cost_ratios_sol, axis=1))\n",
    "# cost_ratios_grp.create_dataset('cost_ratios_coco', data=np.expand_dims(cost_ratios_coco, axis=1))\n",
    "# cost_ratios_grp.create_dataset('cost_ratios_mlopt', data=np.expand_dims(cost_ratios_mlopt, axis=1))\n",
    "# cost_ratios_grp.create_dataset('cost_ratios_reg', data=np.expand_dims(cost_ratios_reg, axis=1))\n",
    "# cost_ratios_grp.create_dataset('cost_ratios_knn', data=np.expand_dims(cost_ratios_knn, axis=1))\n",
    "\n",
    "# hf.close()"
   ]
  },
  {
   "cell_type": "code",
   "execution_count": 4,
   "metadata": {},
   "outputs": [],
   "source": [
    "hf = h5py.File('free_flyer_dev.h5', 'r')\n",
    "\n",
    "num_solves_grp = hf.get('num_solves')\n",
    "num_solves_coco = np.squeeze(np.array(num_solves_grp.get('num_solves_coco')))\n",
    "num_solves_mlopt = np.squeeze(np.array(num_solves_grp.get('num_solves_mlopt')))\n",
    "num_solves_reg = np.squeeze(np.array(num_solves_grp.get('num_solves_reg')))\n",
    "num_solves_knn = np.squeeze(np.array(num_solves_grp.get('num_solves_knn')))\n",
    "\n",
    "total_time_grp = hf.get('total_time')\n",
    "total_time_sol = np.ndarray.tolist(np.squeeze(np.array(total_time_grp.get('total_time_sol'))))\n",
    "total_time_coco = np.ndarray.tolist(np.squeeze(np.array(total_time_grp.get('total_time_coco'))))\n",
    "total_time_mlopt = np.ndarray.tolist(np.squeeze(np.array(total_time_grp.get('total_time_mlopt'))))\n",
    "total_time_reg = np.ndarray.tolist(np.squeeze(np.array(total_time_grp.get('total_time_reg'))))\n",
    "total_time_knn = np.ndarray.tolist(np.squeeze(np.array(total_time_grp.get('total_time_knn'))))\n",
    "\n",
    "cost_ratios_grp = hf.get('cost_ratios')\n",
    "cost_ratios_sol = np.squeeze(np.array(cost_ratios_grp.get('cost_ratios_sol')))\n",
    "cost_ratios_coco = np.squeeze(np.array(cost_ratios_grp.get('cost_ratios_coco')))\n",
    "cost_ratios_mlopt = np.squeeze(np.array(cost_ratios_grp.get('cost_ratios_mlopt')))\n",
    "cost_ratios_reg = np.squeeze(np.array(cost_ratios_grp.get('cost_ratios_reg')))\n",
    "cost_ratios_knn = np.squeeze(np.array(cost_ratios_grp.get('cost_ratios_knn')))\n",
    "\n",
    "sol_percentage, coco_percentage, mlopt_percentage, reg_percentage, knn_percentage = np.ndarray.tolist(np.squeeze(np.array(hf.get('percentage'))))\n",
    "\n",
    "hf.close()"
   ]
  },
  {
   "cell_type": "code",
   "execution_count": null,
   "metadata": {},
   "outputs": [],
   "source": [
    "print(reg_percentage)\n",
    "print(knn_percentage)"
   ]
  },
  {
   "cell_type": "code",
   "execution_count": null,
   "metadata": {},
   "outputs": [],
   "source": [
    "results = {'Mosek':[sol_percentage], 'CoCo':[coco_percentage], 'MLOPT':[mlopt_percentage], 'Reg.':[reg_percentage], 'KNN':[knn_percentage]}\n",
    "results = pd.DataFrame(results)\n",
    "\n",
    "plt.figure(figsize=(8,4))\n",
    "plt.ylim(0,100)\n",
    "plt.tight_layout()\n",
    "\n",
    "ax1 = sns.barplot(data=results, palette=\"Set3\")\n",
    "ax1.set(xlabel=\"\", ylabel=\"Percent Success\")\n",
    "ax1.set(xlabel=\"\", ylabel=\"\")\n",
    "\n",
    "sns.set(font_scale=2.5)\n",
    "figure = ax1.get_figure()\n",
    "figure.savefig(\"free_flyer_percent_success.png\", bbox_inches='tight')"
   ]
  },
  {
   "cell_type": "code",
   "execution_count": null,
   "metadata": {},
   "outputs": [],
   "source": [
    "results = {}\n",
    "results['Policy'] = ['CoCo']*len(num_solves_coco) + ['MLOPT']*len(num_solves_mlopt) + ['Reg.']*len(num_solves_reg) + ['KNN']*len(num_solves_knn)\n",
    "results['Solves'] = np.hstack((np.log10(num_solves_coco), np.log10(num_solves_mlopt), np.log10(num_solves_reg), np.log10(num_solves_knn)))\n",
    "results = pd.DataFrame(results)\n",
    "\n",
    "plt.figure(figsize=(8,4))\n",
    "plt.ylim(0,1.05)\n",
    "plt.tight_layout()\n",
    "\n",
    "ax1 = sns.boxplot(x=results['Policy'], y=results['Solves'], palette=\"Set3\", flierprops=flierprops)                            \n",
    "ax1.set(xlabel=\"\", ylabel=\"log(QPs Solved)\")\n",
    "ax1.set(xlabel=\"\", ylabel=\"\")\n",
    "\n",
    "sns.set(font_scale=2.5)\n",
    "figure = ax1.get_figure()\n",
    "figure.savefig(\"free_flyer_solved.png\", bbox_inches='tight')"
   ]
  },
  {
   "cell_type": "code",
   "execution_count": null,
   "metadata": {},
   "outputs": [],
   "source": [
    "results = {}\n",
    "results['Policy'] = ['Mosek']*len(total_time_sol) +  ['CoCo']*len(total_time_coco) + ['MLOPT']*len(total_time_mlopt) + ['Reg.']*len(total_time_reg) + ['KNN']*len(total_time_knn)\n",
    "results['Time'] = np.hstack((np.log10(total_time_sol), np.log10(total_time_coco), np.log10(total_time_mlopt), np.log10(total_time_reg), np.log10(total_time_knn)))\n",
    "results = pd.DataFrame(results)\n",
    "\n",
    "plt.figure(figsize=(8,4))\n",
    "plt.tight_layout()\n",
    "\n",
    "ax1 = sns.boxplot(x=results['Policy'], y=results['Time'], palette=\"Set3\", flierprops=flierprops)                            \n",
    "ax1.set(xlabel=\"\", ylabel=\"log(Time) [s]\")\n",
    "ax1.set(xlabel=\"\", ylabel=\"\")\n",
    "\n",
    "sns.set(font_scale=2.5)\n",
    "figure = ax1.get_figure()\n",
    "figure.savefig(\"free_flyer_time.png\", bbox_inches='tight')"
   ]
  },
  {
   "cell_type": "code",
   "execution_count": null,
   "metadata": {},
   "outputs": [],
   "source": [
    "results = {}\n",
    "results['Policy'] = ['Mosek']*len(cost_ratios_sol) + ['CoCo']*len(cost_ratios_coco) + ['MLOPT']*len(cost_ratios_mlopt) + ['Reg.']*len(cost_ratios_reg) + ['KNN']*len(cost_ratios_knn)\n",
    "results['Costs'] = np.hstack((100*cost_ratios_sol, 100*cost_ratios_coco, 100*cost_ratios_mlopt, 100*cost_ratios_reg, 100*cost_ratios_knn))\n",
    "results = pd.DataFrame(results)\n",
    "\n",
    "plt.figure(figsize=(8,4))\n",
    "plt.ylim(99,140)\n",
    "# plt.yticks([100, 250, 500, 750])\n",
    "plt.tight_layout()\n",
    "\n",
    "ax1 = sns.boxplot(x=results['Policy'], y=results['Costs'], palette=\"Set3\", flierprops=flierprops)                            \n",
    "ax1.set(xlabel=\"\", ylabel=\"Relative Cost [%]\")\n",
    "ax1.set(xlabel=\"\", ylabel=\"\")\n",
    "\n",
    "sns.set(font_scale=2.5)\n",
    "figure = ax1.get_figure()\n",
    "figure.savefig(\"free_flyer_cost.png\", bbox_inches='tight')"
   ]
  },
  {
   "cell_type": "code",
   "execution_count": null,
   "metadata": {},
   "outputs": [],
   "source": [
    "print('sol_percentage: {}'.format(sol_percentage))\n",
    "print('coco_percentage: {}'.format(coco_percentage))\n",
    "print('reg_percentage: {}'.format(reg_percentage))\n",
    "print('knn_percentage: {}'.format(knn_percentage))"
   ]
  },
  {
   "cell_type": "code",
   "execution_count": null,
   "metadata": {},
   "outputs": [],
   "source": [
    "timeout_idx_coco = np.where(total_time_coco <= 0.01)[0]\n",
    "timeout_idx_reg = np.where(total_time_reg <= 0.01)[0]\n",
    "timeout_idx_knn = np.where(total_time_knn <= 0.01)[0]\n",
    "timeout_idx_sol = np.where(total_time_sol <= 0.01)[0]"
   ]
  },
  {
   "cell_type": "code",
   "execution_count": null,
   "metadata": {},
   "outputs": [],
   "source": [
    "plt.plot(1000*np.sort(total_time_coco[timeout_idx_coco]), linestyle='--', label='CoCo')\n",
    "plt.plot(1000*np.sort(total_time_sol[timeout_idx_sol]), linestyle='--', label='Mosek')\n",
    "plt.xlabel('Problem Index')\n",
    "plt.ylabel('Time [ms]')\n",
    "plt.ylim([0,12])\n",
    "plt.legend(loc='best')"
   ]
  },
  {
   "cell_type": "code",
   "execution_count": null,
   "metadata": {},
   "outputs": [],
   "source": [
    "# results = {'Gurobi':[100.], 'MLOPT':[mlopt_percentage], 'CNN':[cnn_percentage]}\n",
    "# results = {'Gurobi':[100.], 'MLOPT':[mlopt_percentage], 'Regressor':[reg_percentage], 'KNN':[knn_percentage]}\n",
    "results = {'Mosek':[sol_percentage], 'CoCo':[coco_percentage], 'Regressor':[reg_percentage], 'KNN':[knn_percentage]}\n",
    "results = {'Mosek':[100*float(len(timeout_idx_sol))/float(n_test)], \\\n",
    "           'CoCo':[100*float(len(timeout_idx_coco))/float(n_test)], \\\n",
    "           'Regressor':[100*float(len(timeout_idx_reg))/float(n_test)], \\\n",
    "           'KNN':[100*float(len(timeout_idx_knn))/float(n_test)]}\n",
    "results = pd.DataFrame(results)\n",
    "\n",
    "ax1 = sns.barplot(data=results, palette=\"Set3\", label='small')\n",
    "ax1.set(xlabel=\"\", ylabel=\"Percent Success\")\n",
    "\n",
    "plt.tight_layout()\n",
    "\n",
    "figure = ax1.get_figure()\n",
    "figure.savefig(\"percent_success.pdf\")"
   ]
  },
  {
   "cell_type": "code",
   "execution_count": null,
   "metadata": {},
   "outputs": [],
   "source": [
    "results = {}\n",
    "results['Policy'] = ['MLOPT']*len(num_solves_mlopt) + ['CNN']*len(num_solves_cnn)\n",
    "results['Solves'] = np.hstack((np.log10(num_solves_mlopt), np.log10(num_solves_cnn)))\n",
    "\n",
    "\n",
    "results['Policy'] = ['CoCo']*len(num_solves_cnn) + ['Regressor']*len(num_solves_reg) + ['KNN']*len(num_solves_knn)\n",
    "results['Solves'] = np.hstack((np.log10(num_solves_cnn), np.log10(num_solves_reg), np.log10(num_solves_knn)))\n",
    "\n",
    "results = pd.DataFrame(results)\n",
    "\n",
    "ax1 = sns.boxplot(x=results['Policy'], y=results['Solves'], palette=\"Set3\", flierprops=flierprops)                            \n",
    "ax1.set(xlabel=\"\", ylabel=\"log(QCQPs Solved)\")\n",
    "\n",
    "plt.tight_layout()\n",
    "\n",
    "figure = ax1.get_figure()\n",
    "# figure.savefig(\"loss.pdf\")"
   ]
  },
  {
   "cell_type": "code",
   "execution_count": null,
   "metadata": {},
   "outputs": [],
   "source": [
    "results = {}\n",
    "# results['Policy'] = ['Gurobi']*len(total_time_ip) + ['MLOPT']*len(total_time_mlopt) + \\\n",
    "#     ['CNN']*len(total_time_cnn)\n",
    "# results['Time'] = np.hstack((np.log10(total_time_ip), \\\n",
    "#     np.log10(total_time_mlopt), np.log10(total_time_cnn)))\n",
    "\n",
    "results['Policy'] = ['Mosek']*len(total_time_sol[timeout_idx_sol]) + ['CoCo']*len(total_time_cnn[timeout_idx_cnn]) + \\\n",
    "    ['Regressor']*len(total_time_reg[timeout_idx_reg]) + ['KNN']*len(total_time_knn[timeout_idx_knn])\n",
    "results['Time'] = np.hstack((np.log10(total_time_sol[timeout_idx_sol]), \\\n",
    "    np.log10(total_time_cnn[timeout_idx_cnn]), np.log10(total_time_reg[timeout_idx_reg]), np.log10(total_time_knn[timeout_idx_knn])))\n",
    "\n",
    "results = pd.DataFrame(results)\n",
    "\n",
    "ax1 = sns.boxplot(x=results['Policy'], y=results['Time'], palette=\"Set3\", flierprops=flierprops)\n",
    "ax1.set(xlabel=\"\", ylabel=\"log(Time) [s]\")\n",
    "\n",
    "plt.tight_layout()\n",
    "\n",
    "figure = ax1.get_figure()\n",
    "figure.savefig(\"time.pdf\")"
   ]
  },
  {
   "cell_type": "code",
   "execution_count": null,
   "metadata": {},
   "outputs": [],
   "source": [
    "results = {}\n",
    "# results['Policy'] = ['Gurobi']*len(costs_ip) + \\\n",
    "#     ['MLOPT']*len(cost_ratios_mlopt) + ['CNN']*len(cost_ratios_cnn)\n",
    "# results['Costs'] = np.hstack((100*np.ones(len(costs_ip)), \\\n",
    "#     100*cost_ratios_mlopt, 100*cost_ratios_cnn))\n",
    "\n",
    "# results['Policy'] = ['Gurobi']*len(costs_ip) + \\\n",
    "#     ['CNN']*len(cost_ratios_cnn) + ['Regressor']*len(cost_ratios_reg) + ['KNN']*len(cost_ratios_knn)\n",
    "# results['Costs'] = np.hstack((100*np.ones(len(costs_ip)), \\\n",
    "#     100*cost_ratios_cnn, 100*cost_ratios_reg, 100*cost_ratios_knn))\n",
    "# results['Costs'] = np.hstack((np.log10(np.ones(len(costs_ip))), \\\n",
    "#     np.log10(cost_ratios_cnn), np.log10(cost_ratios_reg), np.log10(cost_ratios_knn)))\n",
    "\n",
    "results['Policy'] = ['Mosek']*len(cost_ratios_sol[timeout_idx_sol]) + \\\n",
    "    ['CoCo']*len(cost_ratios_coco[timeout_idx_coco]) + ['Regressor']*len(cost_ratios_reg[timeout_idx_reg]) + ['KNN']*len(cost_ratios_knn)\n",
    "results['Costs'] = np.hstack((100*cost_ratios_sol[timeout_idx_sol], 100*cost_ratios_coco[timeout_idx_coco], \\\n",
    "        100*cost_ratios_reg[timeout_idx_reg], 100*cost_ratios_knn))\n",
    "\n",
    "results = pd.DataFrame(results)\n",
    "\n",
    "ax1 = sns.boxplot(x=results['Policy'], y=results['Costs'], palette=\"Set3\", flierprops=flierprops)\n",
    "ax1.set(xlabel=\"\", ylabel=\"Relative Cost [%]\")\n",
    "# ax1.set(xlabel=\"\", ylabel=\"log(Relative Cost)\")\n",
    "\n",
    "plt.tight_layout()\n",
    "# plt.ylim(0, int(math.ceil(np.max(np.maximum(costs_ip, cost_ratios_cnn, cost_ratios_reg, cost_ratios_knn)) / 10.0)) * 10)\n",
    "plt.ylim([100., 400])\n",
    "\n",
    "figure = ax1.get_figure()\n",
    "figure.savefig(\"cost.pdf\")"
   ]
  },
  {
   "cell_type": "code",
   "execution_count": null,
   "metadata": {},
   "outputs": [],
   "source": []
  }
 ],
 "metadata": {
  "kernelspec": {
   "display_name": "phdenv",
   "language": "python",
   "name": "python3"
  },
  "language_info": {
   "codemirror_mode": {
    "name": "ipython",
    "version": 3
   },
   "file_extension": ".py",
   "mimetype": "text/x-python",
   "name": "python",
   "nbconvert_exporter": "python",
   "pygments_lexer": "ipython3",
   "version": "3.10.12"
  }
 },
 "nbformat": 4,
 "nbformat_minor": 4
}
